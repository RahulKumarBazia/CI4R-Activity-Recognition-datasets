{
 "cells": [
  {
   "cell_type": "code",
   "execution_count": 1,
   "metadata": {},
   "outputs": [],
   "source": [
    "\n",
    "# Pandas and Numpy for data structures and util fucntions\n",
    "import scipy as sp\n",
    "import numpy as np\n",
    "import pandas as pd\n",
    "from numpy.random import rand\n",
    "pd.options.display.max_colwidth = 600\n",
    "\n",
    "# Scikit Imports\n",
    "from sklearn import preprocessing\n",
    "from sklearn.metrics import roc_curve, auc, precision_recall_curve\n",
    "from sklearn.model_selection import train_test_split\n",
    "\n",
    "import cnn_utils as utils\n",
    "from model_evaluation_utils import get_metrics\n",
    "\n",
    "# Matplot Imports\n",
    "import matplotlib.pyplot as plt\n",
    "params = {'legend.fontsize': 'x-large',\n",
    "          'figure.figsize': (15, 5),\n",
    "          'axes.labelsize': 'x-large',\n",
    "          'axes.titlesize':'x-large',\n",
    "          'xtick.labelsize':'x-large',\n",
    "          'ytick.labelsize':'x-large'}\n",
    "\n",
    "plt.rcParams.update(params)\n",
    "%matplotlib inline\n",
    "\n",
    "# pandas display data frames as tables\n",
    "from IPython.display import display, HTML\n",
    "\n",
    "import warnings\n",
    "warnings.filterwarnings('ignore')"
   ]
  },
  {
   "cell_type": "code",
   "execution_count": 2,
   "metadata": {},
   "outputs": [
    {
     "name": "stderr",
     "output_type": "stream",
     "text": [
      "Using TensorFlow backend.\n"
     ]
    }
   ],
   "source": [
    "import tensorflow as tf\n",
    "np.random.seed(1337)\n",
    "from keras import callbacks\n",
    "from keras import optimizers\n",
    "#from keras.datasets import cifar10\n",
    "from keras.engine import Model\n",
    "from keras.applications import vgg16 as vgg\n",
    "from keras.layers import Dropout, Flatten, Dense, GlobalAveragePooling2D,BatchNormalization\n",
    "from keras.preprocessing.image import ImageDataGenerator\n",
    "from keras.utils import np_utils\n",
    "from keras.models import Sequential,  Model, model_from_json\n",
    "from keras.optimizers import RMSprop,Adam,SGD\n",
    "from keras.layers import Activation, Dropout, Flatten, Dense, GlobalMaxPooling2D, Conv2D, MaxPooling2D\n",
    "from keras.callbacks import CSVLogger\n",
    "from keras.wrappers.scikit_learn import KerasClassifier\n",
    "from livelossplot.keras import PlotLossesCallback\n",
    "import efficientnet.keras as efn\n",
    "import h5py, glob, re\n",
    "import os"
   ]
  },
  {
   "cell_type": "code",
   "execution_count": null,
   "metadata": {},
   "outputs": [],
   "source": []
  },
  {
   "cell_type": "code",
   "execution_count": 3,
   "metadata": {},
   "outputs": [
    {
     "name": "stdout",
     "output_type": "stream",
     "text": [
      "Number of training samples:  1841\n",
      "Number of test samples:  527\n",
      "y = 11\n",
      "number of training examples = 1841\n",
      "number of test examples = 527\n",
      "X_train shape: (1841, 128, 128, 3)\n",
      "Y_train shape: (1841, 20)\n",
      "X_test shape: (527, 128, 128, 3)\n",
      "Y_test shape: (527, 20)\n"
     ]
    },
    {
     "data": {
      "image/png": "[encoded data removed]",
      "text/plain": [
       "<Figure size 432x288 with 1 Axes>"
      ]
     },
     "metadata": {
      "needs_background": "light"
     },
     "output_type": "display_data"
    }
   ],
   "source": [
    "import h5py\n",
    "hdf5_path = 'native vs imitation/All_imitation.hdf5' \n",
    "#hdf5_path = 'tobb_dataset_128x128.hdf5'\n",
    "dataset = h5py.File(hdf5_path, \"r\")\n",
    "\n",
    "\n",
    "\n",
    "Y_test_orig = np.array(dataset[\"test_labels\"])\n",
    "Y_train_orig = np.array(dataset[\"train_labels\"])\n",
    "Y_val_orig = np.array(dataset[\"valid_labels\"])\n",
    "\n",
    "X_train_orig = np.array(dataset[\"train_img\"])\n",
    "X_test_orig = np.array(dataset[\"test_img\"])\n",
    "X_val_orig = np.array(dataset[\"valid_img\"])\n",
    "\n",
    "print('Number of training samples: ', len(X_train_orig))\n",
    "print('Number of test samples: ', len(X_test_orig))\n",
    "\n",
    "# Example of a picture\n",
    "index = 14\n",
    "plt.imshow(X_train_orig[index])\n",
    "print (\"y = \" + str(np.squeeze(Y_train_orig[index])))\n",
    "\n",
    "\n",
    "X_train = X_train_orig/255.\n",
    "X_test = X_test_orig/255.\n",
    "X_val  = X_val_orig/255\n",
    "#X_train, X_val, y_train, y_val = train_test_split(X_train, \n",
    "#                                                  Y_train_orig, \n",
    "#                                                  test_size=0.15, \n",
    "#                                                 stratify=np.array(Y_train_orig), \n",
    "#                                                  random_state=42)\n",
    "\n",
    "\n",
    "NUM_CLASSES=20;\n",
    "\n",
    "Y_train = np_utils.to_categorical(Y_train_orig, NUM_CLASSES)\n",
    "Y_val = np_utils.to_categorical(Y_val_orig, NUM_CLASSES)\n",
    "Y_test = np_utils.to_categorical(Y_test_orig, NUM_CLASSES)\n",
    "print (\"number of training examples = \" + str(X_train.shape[0]))\n",
    "print (\"number of test examples = \" + str(X_test.shape[0]))\n",
    "print (\"X_train shape: \" + str(X_train.shape))\n",
    "print (\"Y_train shape: \" + str(Y_train.shape))\n",
    "print (\"X_test shape: \" + str(X_test.shape))\n",
    "print (\"Y_test shape: \" + str(Y_test.shape))"
   ]
  },
  {
   "cell_type": "code",
   "execution_count": 4,
   "metadata": {},
   "outputs": [
    {
     "data": {
      "text/plain": [
       "<bound method Network.summary of <keras.engine.sequential.Sequential object at 0x7f4cd435eba8>>"
      ]
     },
     "execution_count": 4,
     "metadata": {},
     "output_type": "execute_result"
    }
   ],
   "source": [
    "radar = 0 # '0' 4ghz, '1' 10ghz, '2' 24 ghz, or '3' 77\n",
    "# model_addr = glob.glob('models/88x120 CAE/New Models Excel/*.json')\n",
    "# weight_addr = glob.glob('models/88x120 CAE/New Models Excel/*.h5')\n",
    "# model_addr = glob.glob('models/GAN/*.json')\n",
    "# weight_addr = glob.glob('models/GAN/*.h5')\n",
    "model_addr = glob.glob('native vs imitation/*.json')\n",
    "#weight_addr = glob.glob('models/128x128/Auto/Selected Models/*.h5')\n",
    "#print(model_addr)\n",
    "#print(weight_addr)\n",
    "model_file = model_addr[radar]\n",
    "#weights_file = weight_addr[radar]\n",
    "\n",
    "json_file = open(model_file, 'r')\n",
    "loaded_model_json = json_file.read()\n",
    "json_file.close()\n",
    "loaded_model = model_from_json(loaded_model_json)\n",
    "opt = SGD(lr=0.0001, momentum=0.9, decay=1e-6)\n",
    "loaded_model.compile(optimizer=opt, loss='categorical_crossentropy', metrics=['accuracy'])\n",
    "\n",
    "#history = loaded_model.fit(X_train, Y_train, epochs = 50, validation_data = (X_test,Y_test),  batch_size = 16, verbose=1)\n"
   ]
  },
  {
   "cell_type": "code",
   "execution_count": 5,
   "metadata": {},
   "outputs": [
    {
     "name": "stdout",
     "output_type": "stream",
     "text": [
      "Model: \"sequential_79\"\n",
      "_________________________________________________________________\n",
      "Layer (type)                 Output Shape              Param #   \n",
      "=================================================================\n",
      "model_80 (Model)             (None, 4, 4, 128)         2967040   \n",
      "_________________________________________________________________\n",
      "flatten_79 (Flatten)         (None, 2048)              0         \n",
      "_________________________________________________________________\n",
      "dense_235 (Dense)            (None, 256)               524544    \n",
      "_________________________________________________________________\n",
      "dropout_157 (Dropout)        (None, 256)               0         \n",
      "_________________________________________________________________\n",
      "dense_236 (Dense)            (None, 128)               32896     \n",
      "_________________________________________________________________\n",
      "dropout_158 (Dropout)        (None, 128)               0         \n",
      "_________________________________________________________________\n",
      "dense_237 (Dense)            (None, 11)                1419      \n",
      "_________________________________________________________________\n",
      "activation_79 (Activation)   (None, 11)                0         \n",
      "=================================================================\n",
      "Total params: 3,525,899\n",
      "Trainable params: 3,525,899\n",
      "Non-trainable params: 0\n",
      "_________________________________________________________________\n"
     ]
    }
   ],
   "source": [
    "loaded_model.summary()"
   ]
  },
  {
   "cell_type": "code",
   "execution_count": null,
   "metadata": {},
   "outputs": [
    {
     "name": "stdout",
     "output_type": "stream",
     "text": [
      "Model: \"sequential_3\"\n",
      "_________________________________________________________________\n",
      "Layer (type)                 Output Shape              Param #   \n",
      "=================================================================\n",
      "model_80 (Model)             (None, 4, 4, 128)         2967040   \n",
      "_________________________________________________________________\n",
      "flatten_79 (Flatten)         (None, 2048)              0         \n",
      "_________________________________________________________________\n",
      "dense_235 (Dense)            (None, 256)               524544    \n",
      "_________________________________________________________________\n",
      "dropout_157 (Dropout)        (None, 256)               0         \n",
      "_________________________________________________________________\n",
      "dense_236 (Dense)            (None, 128)               32896     \n",
      "_________________________________________________________________\n",
      "dropout_158 (Dropout)        (None, 128)               0         \n",
      "_________________________________________________________________\n",
      "dense_4 (Dense)              (None, 20)                2580      \n",
      "_________________________________________________________________\n",
      "activation_2 (Activation)    (None, 20)                0         \n",
      "=================================================================\n",
      "Total params: 3,527,060\n",
      "Trainable params: 3,527,060\n",
      "Non-trainable params: 0\n",
      "_________________________________________________________________\n",
      "Train on 1841 samples, validate on 527 samples\n",
      "Epoch 1/50\n",
      "1841/1841 [==============================] - 261s 142ms/step - loss: 3.0115 - accuracy: 0.0489 - val_loss: 2.9791 - val_accuracy: 0.0873\n",
      "Epoch 2/50\n",
      "1841/1841 [==============================] - 262s 142ms/step - loss: 2.9891 - accuracy: 0.0663 - val_loss: 2.9717 - val_accuracy: 0.1082\n",
      "Epoch 3/50\n",
      "1841/1841 [==============================] - 260s 141ms/step - loss: 2.9851 - accuracy: 0.0625 - val_loss: 2.9680 - val_accuracy: 0.1025\n",
      "Epoch 4/50\n",
      "1841/1841 [==============================] - 259s 141ms/step - loss: 2.9788 - accuracy: 0.0771 - val_loss: 2.9623 - val_accuracy: 0.1063\n",
      "Epoch 5/50\n",
      "1841/1841 [==============================] - 261s 142ms/step - loss: 2.9727 - accuracy: 0.0809 - val_loss: 2.9603 - val_accuracy: 0.1176\n",
      "Epoch 6/50\n",
      "1841/1841 [==============================] - 262s 142ms/step - loss: 2.9804 - accuracy: 0.0777 - val_loss: 2.9561 - val_accuracy: 0.1271\n",
      "Epoch 7/50\n",
      "1841/1841 [==============================] - 263s 143ms/step - loss: 2.9721 - accuracy: 0.0788 - val_loss: 2.9520 - val_accuracy: 0.1290\n",
      "Epoch 8/50\n",
      "1841/1841 [==============================] - 262s 142ms/step - loss: 2.9680 - accuracy: 0.0880 - val_loss: 2.9489 - val_accuracy: 0.1233\n",
      "Epoch 9/50\n",
      "1841/1841 [==============================] - 263s 143ms/step - loss: 2.9681 - accuracy: 0.0896 - val_loss: 2.9543 - val_accuracy: 0.1176\n",
      "Epoch 10/50\n",
      "1841/1841 [==============================] - 262s 142ms/step - loss: 2.9738 - accuracy: 0.0771 - val_loss: 2.9446 - val_accuracy: 0.1385\n",
      "Epoch 11/50\n",
      "1841/1841 [==============================] - 225s 122ms/step - loss: 2.9645 - accuracy: 0.0864 - val_loss: 2.9407 - val_accuracy: 0.1233\n",
      "Epoch 12/50\n",
      "1841/1841 [==============================] - 224s 122ms/step - loss: 2.9706 - accuracy: 0.0777 - val_loss: 2.9378 - val_accuracy: 0.1195\n",
      "Epoch 13/50\n",
      " 720/1841 [==========>...................] - ETA: 2:12 - loss: 2.9604 - accuracy: 0.1000"
     ]
    }
   ],
   "source": [
    "\n",
    "\n",
    "model = Sequential()\n",
    "# for layer in loaded_model.layers[:-2]: # go through until last layer\n",
    "#     model.add(layer)\n",
    "# model.add(Dense(20, activation='relu'))\n",
    "# model.add(Activation('softmax'))\n",
    "im_width = 128\n",
    "im_height = 128\n",
    "inChannel = 3\n",
    "input_img = Input(shape = (im_width, im_height, inChannel)) \n",
    "model2 = Model(input_img , outputs=loaded_model.layers[:-2].output)\n",
    "model.add(model2)\n",
    "model.add(Dense(NUM_CLASSES))\n",
    "model.add(Activation('softmax'))\n",
    "optim = Adam(lr=0.0002)\n",
    "model.summary()\n",
    "# model.compile(optimizer=opt, loss='categorical_crossentropy', metrics=['accuracy'])\n",
    "model.compile(optimizer=optim, loss='categorical_crossentropy', metrics=['accuracy'])\n",
    "\n",
    "\n",
    "history = model.fit(X_train, Y_train, epochs = 50, validation_data = (X_test,Y_test),  batch_size = 16, verbose=1)\n",
    "\n"
   ]
  },
  {
   "cell_type": "code",
   "execution_count": 11,
   "metadata": {},
   "outputs": [
    {
     "name": "stdout",
     "output_type": "stream",
     "text": [
      "Model: \"sequential_2\"\n",
      "_________________________________________________________________\n",
      "Layer (type)                 Output Shape              Param #   \n",
      "=================================================================\n",
      "model_80 (Model)             (None, 4, 4, 128)         2967040   \n",
      "_________________________________________________________________\n",
      "flatten_79 (Flatten)         (None, 2048)              0         \n",
      "_________________________________________________________________\n",
      "dense_235 (Dense)            (None, 256)               524544    \n",
      "_________________________________________________________________\n",
      "dropout_157 (Dropout)        (None, 256)               0         \n",
      "_________________________________________________________________\n",
      "dense_236 (Dense)            (None, 128)               32896     \n",
      "_________________________________________________________________\n",
      "dropout_158 (Dropout)        (None, 128)               0         \n",
      "_________________________________________________________________\n",
      "dense_3 (Dense)              (None, 20)                2580      \n",
      "_________________________________________________________________\n",
      "activation_1 (Activation)    (None, 20)                0         \n",
      "=================================================================\n",
      "Total params: 3,527,060\n",
      "Trainable params: 3,527,060\n",
      "Non-trainable params: 0\n",
      "_________________________________________________________________\n"
     ]
    }
   ],
   "source": [
    "model.summary()"
   ]
  },
  {
   "cell_type": "code",
   "execution_count": 7,
   "metadata": {},
   "outputs": [
    {
     "name": "stdout",
     "output_type": "stream",
     "text": [
      "[[10  0  0  0  2  0  0  1  0  0  0  0  0  5  0  0  0  0  0  0]\n",
      " [ 0  0  0  0  8  0  7  3  0  0  0  1  0 10  0  0  0  0  0  0]\n",
      " [ 0  0  0  0  0  0  3  1  0  0  0  0  0 15  0  0  0  0  0  0]\n",
      " [ 0  0  0  0  2  0  9  1  0  0  0  1  0  5  0  0  0  0  7  0]\n",
      " [ 0  0  0  0 17  0  6  0  0  0  0  1  0 13  0  0  0  0  0  0]\n",
      " [ 0  0  0  0  3  0 12  0  0  0  0  0  0  6  0  0  0  0  3  0]\n",
      " [ 0  0  0  0  0  0 10  1  0  0  0  0  0  3  0  0  0  0  6  0]\n",
      " [ 0  0  0  0  1  0  5  1  0  0  0  0  0 24  0  0  0  0  0  0]\n",
      " [ 1  0  0  0  2  0  0  2  0  0  0  0  0 24  0  0  0  0  0  0]\n",
      " [ 0  0  0  0  1  0 14  0  0  0  0  2  0  3  0  0  0  0  3  0]\n",
      " [ 0  0  0  0  2  0 14  2  0  0  0  2  0 18  0  0  0  0  0  0]\n",
      " [ 0  0  0  0  1  0  4  6  0  0  0  2  0 16  0  0  0  0  0  0]\n",
      " [ 0  0  0  0  0  0 14  3  0  0  0  3  0  7  0  0  0  0  7  0]\n",
      " [ 1  0  0  0  5  0  5  0  0  0  0  2  0 13  0  0  0  0  1  0]\n",
      " [ 0  0  0  0  8  0  8  0  0  0  0  0  0 12  0  0  0  0  0  0]\n",
      " [ 4  0  0  0  0  0  1  3  0  0  0  0  0 14  0  0  0  0  0  0]\n",
      " [ 1  0  0  0  3  0 15  4  0  0  0  1  0  2  0  0  0  0  0  0]\n",
      " [ 0  0  0  0  0  0 10  4  0  0  0  1  0  8  0  0  0  0  2  0]\n",
      " [ 0  0  0  0  0  0 13  0  0  0  0  0  0  3  0  0  0  0  4  0]\n",
      " [ 0  0  0  0  3  0  3  1  0  0  0  0  0  9  0  1  0  0  6  0]]\n"
     ]
    }
   ],
   "source": [
    "from sklearn.metrics import confusion_matrix\n",
    "\n",
    "tt= model.predict(X_test)\n",
    "cm=confusion_matrix(np.argmax(Y_test,axis=1), np.argmax(tt,axis=1))\n",
    "print(cm)"
   ]
  },
  {
   "cell_type": "code",
   "execution_count": null,
   "metadata": {},
   "outputs": [],
   "source": []
  }
 ],
 "metadata": {
  "kernelspec": {
   "display_name": "Python 3",
   "language": "python",
   "name": "python3"
  },
  "language_info": {
   "codemirror_mode": {
    "name": "ipython",
    "version": 3
   },
   "file_extension": ".py",
   "mimetype": "text/x-python",
   "name": "python",
   "nbconvert_exporter": "python",
   "pygments_lexer": "ipython3",
   "version": "3.7.6"
  }
 },
 "nbformat": 4,
 "nbformat_minor": 2
}
